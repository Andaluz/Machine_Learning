{
 "cells": [
  {
   "cell_type": "markdown",
   "metadata": {},
   "source": [
    "---"
   ]
  },
  {
   "cell_type": "markdown",
   "metadata": {},
   "source": [
    "Here, our goal will be to create an AI that can learn to successfully play the classic snake game while attempting to obtain the highest score possible. Let's begin with importing our needed libraries."
   ]
  },
  {
   "cell_type": "code",
   "execution_count": 1,
   "metadata": {},
   "outputs": [
    {
     "name": "stdout",
     "output_type": "stream",
     "text": [
      "pygame 1.9.6\n",
      "Hello from the pygame community. https://www.pygame.org/contribute.html\n"
     ]
    }
   ],
   "source": [
    "import pygame\n",
    "import random"
   ]
  },
  {
   "cell_type": "markdown",
   "metadata": {},
   "source": [
    "Let's continue with the creation of the game itself and set the game parameters below."
   ]
  },
  {
   "cell_type": "code",
   "execution_count": 2,
   "metadata": {},
   "outputs": [],
   "source": [
    "# Let's initialize the imported Pygame modules #\n",
    "pygame.init()\n",
    "\n",
    "# Let's initialize color variables to color the snake, food, text, and window background #\n",
    "white = (255,255,255)\n",
    "green = (0,255,0)\n",
    "black = (0,0,0)\n",
    "red = (255,0,0)\n",
    "\n",
    "# Let's set the display window values for the game #\n",
    "dis_width = 500\n",
    "dis_height = 500\n",
    "\n",
    "# Let's set the size and speed of the snake #\n",
    "snake_block = 10\n",
    "snake_speed = 10\n",
    "\n",
    "# Let's create a clock that will help us track time #\n",
    "clock = pygame.time.Clock()\n",
    "\n",
    "# Let's set a caption text on the top of the display window #\n",
    "pygame.display.set_caption('AI Plays Snake (:')"
   ]
  },
  {
   "cell_type": "markdown",
   "metadata": {},
   "source": [
    "Now, let's create the game loop."
   ]
  },
  {
   "cell_type": "code",
   "execution_count": 3,
   "metadata": {},
   "outputs": [
    {
     "name": "stdout",
     "output_type": "stream",
     "text": [
      "CHOMP!\n",
      "CHOMP!\n",
      "CHOMP!\n"
     ]
    }
   ],
   "source": [
    "# Let's create the display window for the game #\n",
    "display = pygame.display.set_mode((dis_width, dis_height))\n",
    "\n",
    "# Let's create a function to display a message when game is lost #\n",
    "font_style = pygame.font.SysFont(None, 50)\n",
    "def message(msg, color):\n",
    "    mesg = font_style.render(msg, True, color)\n",
    "    display.blit(mesg, [0, dis_height/2])\n",
    "\n",
    "# Let's create a function which will hold a loop that will run the game #\n",
    "def GameLoop():\n",
    "    game_over = False\n",
    "    game_close = False\n",
    "    \n",
    "    # Let's create variables that will hold the initial position and updated position of the snake #\n",
    "    x1 = (dis_width/2)\n",
    "    y1 = (dis_height/2)\n",
    "    x2 = 0\n",
    "    y2 = 0\n",
    "    \n",
    "    # Let's create variables that will hold the position of the food #\n",
    "    random.seed(42)\n",
    "    food_x = round(random.randrange(0, dis_width - snake_block)/10.0)*10.0\n",
    "    food_y = round(random.randrange(0, dis_height - snake_block)/10.0)*10.0\n",
    "    \n",
    "    # Let's create the loop that will run the game #\n",
    "    while not game_over:\n",
    "        \n",
    "        # Let's call the function to display the message when game is lost #\n",
    "        while game_close == True:\n",
    "            display.fill(black)\n",
    "            message('You Died :( Q-quit/C-continue', white)\n",
    "            pygame.display.update()\n",
    "            \n",
    "            # Let's set the actions when pressing keys Q and C #\n",
    "            for event in pygame.event.get():\n",
    "                if event.type == pygame.KEYDOWN:\n",
    "                    if event.key == pygame.K_q:\n",
    "                        game_over = True\n",
    "                        game_close = False\n",
    "                    elif event.key == pygame.K_c:\n",
    "                        GameLoop()\n",
    "        \n",
    "        # Let's set the actions possible during gameplay #\n",
    "        for event in pygame.event.get():\n",
    "            \n",
    "            # Let's set the game to end when display window is closed #\n",
    "            if event.type == pygame.QUIT:\n",
    "                game_over = True\n",
    "            \n",
    "            # Let's allow for snake movement given keyboard input #\n",
    "            if event.type == pygame.KEYDOWN:\n",
    "                if event.key == pygame.K_LEFT:\n",
    "                    x2 = -(snake_block)\n",
    "                    y2 = 0\n",
    "                elif event.key == pygame.K_RIGHT:\n",
    "                    x2 = snake_block\n",
    "                    y2 = 0\n",
    "                elif event.key == pygame.K_UP:\n",
    "                    x2 = 0\n",
    "                    y2 = -(snake_block)\n",
    "                elif event.key == pygame.K_DOWN:\n",
    "                    x2 = 0\n",
    "                    y2 = snake_block\n",
    "        \n",
    "        # Let's set the game to end if snake hits the boundaries #\n",
    "        if x1 >= dis_width or x1 < 0 or y1 >= dis_height or y1 < 0:\n",
    "            game_close = True\n",
    "        \n",
    "        # Let's set updated position as initial position for next iteration #\n",
    "        x1 += x2\n",
    "        y1 += y2\n",
    "        \n",
    "        # Let's color the window background #\n",
    "        display.fill(black)\n",
    "        \n",
    "        # Let's create the snake with a single green square #\n",
    "        pygame.draw.rect(display, green, [x1, y1, snake_block, snake_block])\n",
    "        \n",
    "        # Let's create the food with a single red square #\n",
    "        pygame.draw.rect(display, red, [food_x, food_y, snake_block, snake_block])\n",
    "        \n",
    "        # Let's ensure the contents of the display will update #\n",
    "        pygame.display.update()\n",
    "        \n",
    "        # Let's test if the snake is \"eating\" #\n",
    "        if x1 == food_x and y1 == food_y:\n",
    "            print('CHOMP!')\n",
    "        \n",
    "        # Let's set the FPS #\n",
    "        clock.tick(snake_speed)\n",
    "        \n",
    "    # Let's uninitialize everything and end the program #\n",
    "    pygame.quit()\n",
    "\n",
    "# End of game loop #\n",
    "GameLoop()"
   ]
  }
 ],
 "metadata": {
  "kernelspec": {
   "display_name": "Python 3",
   "language": "python",
   "name": "python3"
  },
  "language_info": {
   "codemirror_mode": {
    "name": "ipython",
    "version": 3
   },
   "file_extension": ".py",
   "mimetype": "text/x-python",
   "name": "python",
   "nbconvert_exporter": "python",
   "pygments_lexer": "ipython3",
   "version": "3.7.3"
  }
 },
 "nbformat": 4,
 "nbformat_minor": 2
}
